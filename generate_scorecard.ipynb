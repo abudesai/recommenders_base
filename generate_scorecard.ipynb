{
 "cells": [
  {
   "cell_type": "code",
   "execution_count": 3,
   "id": "74147336",
   "metadata": {},
   "outputs": [],
   "source": [
    "import numpy as np, pandas as pd\n",
    "import os, shutil"
   ]
  },
  {
   "cell_type": "code",
   "execution_count": 49,
   "id": "9d5d6d5e",
   "metadata": {},
   "outputs": [],
   "source": [
    "model_category = 'rec_base'\n",
    "results_dir = 'all_results'\n",
    "outputs_dir = 'output'\n",
    "scores_file = 'scores.csv'\n",
    "accu_results_file = f'{model_category}_all_results.csv'\n",
    "accu_results_file_path = os.path.join(results_dir, accu_results_file)"
   ]
  },
  {
   "cell_type": "code",
   "execution_count": 51,
   "id": "5a889c07",
   "metadata": {},
   "outputs": [],
   "source": [
    "datasets = [\n",
    "        \"jester\", \n",
    "        \"anime\", \n",
    "        \"book-crossing\", \n",
    "        \"movielens-10m\", \n",
    "        \"movielens-20m\"\n",
    "    ]\n",
    "\n",
    "algos = [\n",
    "   {\n",
    "       \"algo_name\": \"mf\",\n",
    "       \"image\":  \"abudesai/rec_base_mf:latest\",\n",
    "   },\n",
    "    {\n",
    "       \"algo_name\": \"mf_res\",\n",
    "       \"image\":  \"abudesai/rec_base_mf_res:latest\",\n",
    "   },\n",
    "    {\n",
    "       \"algo_name\": \"autorec\",\n",
    "       \"image\":  \"abudesai/rec_base_autorec:latest\",\n",
    "   },        \n",
    "]"
   ]
  },
  {
   "cell_type": "code",
   "execution_count": 52,
   "id": "e72e32d7",
   "metadata": {},
   "outputs": [],
   "source": [
    "def process_scores(data, algo_name, dataset): \n",
    "#     idx = \n",
    "    data = data.loc[data['Attribute'] != 'Model_Name']\n",
    "    data.insert(0, 'model_category', model_category)\n",
    "    data.insert(1, 'algo_name', algo_name)\n",
    "    data.insert(2, 'dataset', dataset)\n",
    "    return data"
   ]
  },
  {
   "cell_type": "code",
   "execution_count": 53,
   "id": "48a0fb7b",
   "metadata": {},
   "outputs": [
    {
     "name": "stdout",
     "output_type": "stream",
     "text": [
      "all_results\\rec_base_mf\n",
      "\t all_results\\rec_base_mf\\jester\\output\\scores.csv\n",
      "\t all_results\\rec_base_mf\\anime\\output\\scores.csv\n",
      "\t all_results\\rec_base_mf\\book-crossing\\output\\scores.csv\n",
      "\t all_results\\rec_base_mf\\movielens-10m\\output\\scores.csv\n",
      "\t all_results\\rec_base_mf\\movielens-20m\\output\\scores.csv\n",
      "all_results\\rec_base_mf_res\n",
      "\t all_results\\rec_base_mf_res\\jester\\output\\scores.csv\n",
      "\t all_results\\rec_base_mf_res\\anime\\output\\scores.csv\n",
      "\t all_results\\rec_base_mf_res\\book-crossing\\output\\scores.csv\n",
      "\t all_results\\rec_base_mf_res\\movielens-10m\\output\\scores.csv\n",
      "\t all_results\\rec_base_mf_res\\movielens-20m\\output\\scores.csv\n",
      "all_results\\rec_base_autorec\n",
      "\t all_results\\rec_base_autorec\\jester\\output\\scores.csv\n",
      "\t all_results\\rec_base_autorec\\anime\\output\\scores.csv\n",
      "\t all_results\\rec_base_autorec\\book-crossing\\output\\scores.csv\n",
      "\t all_results\\rec_base_autorec\\movielens-10m\\output\\scores.csv\n",
      "\t all_results\\rec_base_autorec\\movielens-20m\\output\\scores.csv\n",
      "  model_category algo_name dataset Attribute    Value\n",
      "0       rec_base        mf  jester       mse  17.7508\n",
      "1       rec_base        mf  jester      rmse   4.2132\n",
      "2       rec_base        mf  jester       mae   3.2305\n",
      "3       rec_base        mf  jester      nmae   4.3092\n",
      "4       rec_base        mf  jester     smape  103.957\n",
      "5       rec_base        mf  jester        r2   0.3668\n",
      "6       rec_base        mf   anime       mse   1.3423\n",
      "7       rec_base        mf   anime      rmse   1.1586\n",
      "8       rec_base        mf   anime       mae   0.8731\n",
      "9       rec_base        mf   anime      nmae   0.1118\n",
      "Wall time: 72.2 ms\n"
     ]
    }
   ],
   "source": [
    "%%time\n",
    "all_results = []\n",
    "for algo in algos: \n",
    "    algo_name = algo['algo_name']\n",
    "    algo_folder = f\"{model_category}_{algo_name}\"\n",
    "    algo_folder_path = os.path.join(results_dir, algo_folder)\n",
    "    print(algo_folder_path)\n",
    "    \n",
    "    for dataset in datasets:\n",
    "        output_dir = os.path.join(algo_folder_path, dataset, outputs_dir)\n",
    "        scores_file_path = os.path.join(output_dir, scores_file)\n",
    "        print('\\t', scores_file_path)\n",
    "        \n",
    "        data = pd.read_csv(scores_file_path)\n",
    "        data = process_scores(data, algo_name, dataset)\n",
    "        all_results.append(data)\n",
    "        \n",
    "all_results = pd.concat(all_results, ignore_index=True)\n",
    "print(all_results.head(10))\n",
    "        "
   ]
  },
  {
   "cell_type": "code",
   "execution_count": 54,
   "id": "a43bdaa6",
   "metadata": {},
   "outputs": [],
   "source": [
    "all_results.to_csv(accu_results_file_path, index=False)"
   ]
  },
  {
   "cell_type": "code",
   "execution_count": null,
   "id": "ee158957",
   "metadata": {},
   "outputs": [],
   "source": []
  }
 ],
 "metadata": {
  "kernelspec": {
   "display_name": "Python 3 (ipykernel)",
   "language": "python",
   "name": "python3"
  },
  "language_info": {
   "codemirror_mode": {
    "name": "ipython",
    "version": 3
   },
   "file_extension": ".py",
   "mimetype": "text/x-python",
   "name": "python",
   "nbconvert_exporter": "python",
   "pygments_lexer": "ipython3",
   "version": "3.9.7"
  }
 },
 "nbformat": 4,
 "nbformat_minor": 5
}
