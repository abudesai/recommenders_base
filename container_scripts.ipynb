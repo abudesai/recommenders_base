{
 "cells": [
  {
   "cell_type": "markdown",
   "id": "00c32776",
   "metadata": {},
   "source": [
    "# Get Dataset and Setup ML_Vol"
   ]
  },
  {
   "cell_type": "code",
   "execution_count": 18,
   "id": "c9ceecb8",
   "metadata": {},
   "outputs": [],
   "source": [
    "import numpy as np, pandas as pd\n",
    "import os, shutil\n",
    "from distutils.dir_util import copy_tree"
   ]
  },
  {
   "cell_type": "markdown",
   "id": "bd132b62",
   "metadata": {},
   "source": [
    "## Make Volume to Mount with appropriate folders"
   ]
  },
  {
   "cell_type": "code",
   "execution_count": 3,
   "id": "5ab98404",
   "metadata": {},
   "outputs": [],
   "source": [
    "parent_dir = 'ml_vol'\n",
    "if os.path.exists(parent_dir): shutil.rmtree(parent_dir)\n",
    "\n",
    "os.mkdir(parent_dir)\n",
    "subdirs = ['data', 'logs', 'model', 'output', 'score']\n",
    "for subdir in subdirs: \n",
    "    sub_dir_path = os.path.join(parent_dir,subdir)\n",
    "    os.mkdir(sub_dir_path)"
   ]
  },
  {
   "cell_type": "markdown",
   "id": "5097813b",
   "metadata": {},
   "source": [
    "## Copy Train and Test data Volume to Mount"
   ]
  },
  {
   "cell_type": "code",
   "execution_count": 4,
   "id": "8c7fcd46",
   "metadata": {},
   "outputs": [],
   "source": [
    "dataset = 'jester'      # jester, movielens-10m, movielens-20m, book-crossing\n",
    "\n",
    "src_path = f'./data/{dataset}/processed/'\n",
    "dest_path = os.path.join(parent_dir, 'data')\n",
    "\n",
    "for input_type in ['train', 'valid', 'test']:\n",
    "    full_src = os.path.join(src_path, input_type)\n",
    "    full_dest = os.path.join(dest_path, input_type)\n",
    "    \n",
    "    if os.path.exists(full_src): copy_tree(full_src, full_dest)"
   ]
  },
  {
   "cell_type": "markdown",
   "id": "e5c644b2",
   "metadata": {},
   "source": [
    "# Build Image"
   ]
  },
  {
   "cell_type": "code",
   "execution_count": 22,
   "id": "1ef4a40a",
   "metadata": {},
   "outputs": [
    {
     "name": "stderr",
     "output_type": "stream",
     "text": [
      "#1 [internal] load build definition from Dockerfile\n",
      "#1 sha256:e26533fdd38516919ab7c5b6d6ba4a789bdd28d7d21c4dd91073ef868bc7da2e\n",
      "#1 transferring dockerfile: 263B 0.0s done\n",
      "#1 DONE 0.0s\n",
      "\n",
      "#2 [internal] load .dockerignore\n",
      "#2 sha256:6bebea9bd085308cc46a84eea88057649bbf158210f17ab6d9920a06df742825\n",
      "#2 transferring context: 62B 0.0s done\n",
      "#2 DONE 0.0s\n",
      "\n",
      "#3 [internal] load metadata for docker.io/library/python:3.8.0-slim\n",
      "#3 sha256:4f0c597550e30aa54f707f0017cf64d137017976c13b147baa6fd4ad0c55c91e\n",
      "#3 ...\n",
      "\n",
      "#4 [auth] library/python:pull token for registry-1.docker.io\n",
      "#4 sha256:fceaa7993bd1c5f5089668e6df6320a4e1127a26662583227dc4cfc1e91373ff\n",
      "#4 DONE 0.0s\n",
      "\n",
      "#3 [internal] load metadata for docker.io/library/python:3.8.0-slim\n",
      "#3 sha256:4f0c597550e30aa54f707f0017cf64d137017976c13b147baa6fd4ad0c55c91e\n",
      "#3 DONE 7.0s\n",
      "\n",
      "#5 [internal] load build context\n",
      "#5 sha256:6c93f2be98556f98ab96a9df9856b4d14c3662582ecd5cc85f1c674a18dee782\n",
      "#5 transferring context: 40.25kB 0.1s done\n",
      "#5 DONE 0.1s\n",
      "\n",
      "#10 [1/5] FROM docker.io/library/python:3.8.0-slim@sha256:8e243f41e500238f78f7a29a81656114d3fe603d5c34079a462d090f71c4b225\n",
      "#10 sha256:f2202870b184ece5b9a09c9b777f938cf0be25287ffe019e2c50e60191382ede\n",
      "#10 CACHED\n",
      "\n",
      "#6 [2/5] COPY ./requirements.txt .\n",
      "#6 sha256:32cbd3d59f1bcab31083103f3491c2f1a8858e93912c256a052f3f0ec417f7d6\n",
      "#6 DONE 0.0s\n",
      "\n",
      "#7 [3/5] RUN pip3 install -r requirements.txt\n",
      "#7 sha256:05ef03cdd2411242759b2aafe4044ca59de827e61d7200d285c7b159d6d24c5a\n",
      "#7 1.131 Collecting flask==2.0.2\n",
      "#7 1.261   Downloading https://files.pythonhosted.org/packages/8f/b6/b4fdcb6d01ee20f9cfe81dcf9d3cd6c2f874b996f186f1c0b898c4a59c04/Flask-2.0.2-py3-none-any.whl (95kB)\n",
      "#7 1.599 Collecting numpy==1.19.5\n",
      "#7 1.619   Downloading https://files.pythonhosted.org/packages/66/d7/3b133b17e185f14137bc8afe7a41daf1f31556900f10238312a5ae9c7345/numpy-1.19.5-cp38-cp38-manylinux2010_x86_64.whl (14.9MB)\n",
      "#7 3.900 Collecting pandas==1.3.4\n",
      "#7 3.920   Downloading https://files.pythonhosted.org/packages/52/4e/1d4186fc3cb6de68fe2572c7e148fabe70572608a46c7d2441ff74b56026/pandas-1.3.4-cp38-cp38-manylinux_2_17_x86_64.manylinux2014_x86_64.whl (11.5MB)\n",
      "#7 5.867 Collecting scikit-learn==1.0\n",
      "#7 5.890   Downloading https://files.pythonhosted.org/packages/f2/1d/0cc755ffc011b75ad7027095961a252628c315fd842d89235a3c3c06b2a4/scikit_learn-1.0-cp38-cp38-manylinux_2_12_x86_64.manylinux2010_x86_64.whl (25.8MB)\n",
      "#7 9.584 Collecting scikit-optimize==0.9.0\n",
      "#7 9.606   Downloading https://files.pythonhosted.org/packages/55/f6/2d9efbd86126c40fe0f8a47611a9e2480b493b6f0ce9751bdf0240cfa091/scikit_optimize-0.9.0-py2.py3-none-any.whl (100kB)\n",
      "#7 9.740 Collecting tensorflow==2.7.0\n",
      "#7 9.769   Downloading https://files.pythonhosted.org/packages/72/8a/033b584f8dd863c07aa8877c2dd231777de0bb0b1338f4ac6a81999980ee/tensorflow-2.7.0-cp38-cp38-manylinux2010_x86_64.whl (489.6MB)\n",
      "#7 87.91 Collecting Jinja2>=3.0\n",
      "#7 87.93   Downloading https://files.pythonhosted.org/packages/20/9a/e5d9ec41927401e41aea8af6d16e78b5e612bca4699d417f646a9610a076/Jinja2-3.0.3-py3-none-any.whl (133kB)\n",
      "#7 88.00 Collecting click>=7.1.2\n",
      "#7 88.02   Downloading https://files.pythonhosted.org/packages/48/58/c8aa6a8e62cc75f39fee1092c45d6b6ba684122697d7ce7d53f64f98a129/click-8.0.3-py3-none-any.whl (97kB)\n",
      "#7 88.08 Collecting itsdangerous>=2.0\n",
      "#7 88.10   Downloading https://files.pythonhosted.org/packages/9c/96/26f935afba9cd6140216da5add223a0c465b99d0f112b68a4ca426441019/itsdangerous-2.0.1-py3-none-any.whl\n",
      "#7 88.16 Collecting Werkzeug>=2.0\n",
      "#7 88.18   Downloading https://files.pythonhosted.org/packages/1e/73/51137805d1b8d97367a8a77cae4a792af14bb7ce58fbd071af294c740cf0/Werkzeug-2.0.2-py3-none-any.whl (288kB)\n",
      "#7 88.29 Collecting python-dateutil>=2.7.3\n",
      "#7 88.33   Downloading https://files.pythonhosted.org/packages/36/7a/87837f39d0296e723bb9b62bbb257d0355c7f6128853c78955f57342a56d/python_dateutil-2.8.2-py2.py3-none-any.whl (247kB)\n",
      "#7 88.49 Collecting pytz>=2017.3\n",
      "#7 88.51   Downloading https://files.pythonhosted.org/packages/d3/e3/d9f046b5d1c94a3aeab15f1f867aa414f8ee9d196fae6865f1d6a0ee1a0b/pytz-2021.3-py2.py3-none-any.whl (503kB)\n",
      "#7 88.68 Collecting threadpoolctl>=2.0.0\n",
      "#7 88.70   Downloading https://files.pythonhosted.org/packages/ff/fe/8aaca2a0db7fd80f0b2cf8a16a034d3eea8102d58ff9331d2aaf1f06766a/threadpoolctl-3.0.0-py3-none-any.whl\n",
      "#7 88.88 Collecting scipy>=1.1.0\n",
      "#7 88.90   Downloading https://files.pythonhosted.org/packages/f8/3d/26a75c8045181c2fab9c76936ca84318a6674707e33e42c727c1d84f1df4/scipy-1.7.3-cp38-cp38-manylinux_2_17_x86_64.manylinux2014_x86_64.whl (39.3MB)\n",
      "#7 94.98 Collecting joblib>=0.11\n",
      "#7 95.01   Downloading https://files.pythonhosted.org/packages/3e/d5/0163eb0cfa0b673aa4fe1cd3ea9d8a81ea0f32e50807b0c295871e4aab2e/joblib-1.1.0-py2.py3-none-any.whl (306kB)\n",
      "#7 95.09 Collecting pyaml>=16.9\n",
      "#7 95.11   Downloading https://files.pythonhosted.org/packages/35/fd/78a3a11c7b9b11878ebbf4461a09cbc758bdfc1b45168972727f7334b09a/pyaml-21.10.1-py2.py3-none-any.whl\n",
      "#7 95.16 Collecting termcolor>=1.1.0\n",
      "#7 95.18   Downloading https://files.pythonhosted.org/packages/8a/48/a76be51647d0eb9f10e2a4511bf3ffb8cc1e6b14e9e4fab46173aa79f981/termcolor-1.1.0.tar.gz\n",
      "#7 95.48 Collecting flatbuffers<3.0,>=1.12\n",
      "#7 95.50   Downloading https://files.pythonhosted.org/packages/3d/d0/26033c70d642fbc1e35d3619cf3210986fb953c173b1226709f75056c149/flatbuffers-2.0-py2.py3-none-any.whl\n",
      "#7 95.55 Collecting gast<0.5.0,>=0.2.1\n",
      "#7 95.57   Downloading https://files.pythonhosted.org/packages/b6/48/583c032b79ae5b3daa02225a675aeb673e58d2cb698e78510feceb11958c/gast-0.4.0-py3-none-any.whl\n",
      "#7 95.60 Collecting opt-einsum>=2.3.2\n",
      "#7 95.62   Downloading https://files.pythonhosted.org/packages/bc/19/404708a7e54ad2798907210462fd950c3442ea51acc8790f3da48d2bee8b/opt_einsum-3.3.0-py3-none-any.whl (65kB)\n",
      "#7 95.67 Collecting absl-py>=0.4.0\n",
      "#7 95.69   Downloading https://files.pythonhosted.org/packages/2c/03/e3e19d3faf430ede32e41221b294e37952e06acc96781c417ac25d4a0324/absl_py-1.0.0-py3-none-any.whl (126kB)\n",
      "#7 95.82 Collecting wrapt>=1.11.0\n",
      "#7 95.83   Downloading https://files.pythonhosted.org/packages/8a/fc/726a690e5b38f54e9a8c869da76f0a35713bbdac84661472517e8a6d2383/wrapt-1.13.3-cp38-cp38-manylinux_2_5_x86_64.manylinux1_x86_64.manylinux_2_12_x86_64.manylinux2010_x86_64.whl (84kB)\n",
      "#7 95.88 Collecting astunparse>=1.6.0\n",
      "#7 95.90   Downloading https://files.pythonhosted.org/packages/2b/03/13dde6512ad7b4557eb792fbcf0c653af6076b81e5941d36ec61f7ce6028/astunparse-1.6.3-py2.py3-none-any.whl\n",
      "#7 95.94 Collecting tensorflow-estimator<2.8,~=2.7.0rc0\n",
      "#7 95.96   Downloading https://files.pythonhosted.org/packages/db/de/3a71ad41b87f9dd424e3aec3b0794a60f169fa7e9a9a1e3dd44290b86dd6/tensorflow_estimator-2.7.0-py2.py3-none-any.whl (463kB)\n",
      "#7 96.13 Collecting tensorflow-io-gcs-filesystem>=0.21.0\n",
      "#7 96.16   Downloading https://files.pythonhosted.org/packages/64/27/035440477aee18d8cd9f13fc83f2d1066a6b87e75c2d60bea9dcdb876b36/tensorflow_io_gcs_filesystem-0.22.0-cp38-cp38-manylinux_2_12_x86_64.manylinux2010_x86_64.whl (2.1MB)\n",
      "#7 96.90 Collecting grpcio<2.0,>=1.24.3\n",
      "#7 96.93   Downloading https://files.pythonhosted.org/packages/45/1e/31235024d0e7bfabd5e7e50d4e727631a7d23c677e7d34d1556ae9c24c16/grpcio-1.42.0-cp38-cp38-manylinux_2_17_x86_64.manylinux2014_x86_64.whl (4.0MB)\n",
      "#7 97.52 Collecting typing-extensions>=3.6.6\n",
      "#7 97.54   Downloading https://files.pythonhosted.org/packages/05/e4/baf0031e39cf545f0c9edd5b1a2ea12609b7fcba2d58e118b11753d68cf0/typing_extensions-4.0.1-py3-none-any.whl\n",
      "#7 97.64 Collecting libclang>=9.0.1\n",
      "#7 97.66   Downloading https://files.pythonhosted.org/packages/76/2d/7b0f7f5519669f11e66028fa227d4bcda4d77411d52d26c661676db82338/libclang-12.0.0-py2.py3-none-manylinux1_x86_64.whl (13.4MB)\n",
      "#7 99.62 Collecting six>=1.12.0\n",
      "#7 99.64   Downloading https://files.pythonhosted.org/packages/d9/5a/e7c31adbe875f2abbb91bd84cf2dc52d792b5a01506781dbcf25c91daf11/six-1.16.0-py2.py3-none-any.whl\n",
      "#7 99.68 Collecting google-pasta>=0.1.1\n",
      "#7 99.70   Downloading https://files.pythonhosted.org/packages/a3/de/c648ef6835192e6e2cc03f40b19eeda4382c49b5bafb43d88b931c4c74ac/google_pasta-0.2.0-py3-none-any.whl (57kB)\n",
      "#7 99.76 Collecting tensorboard~=2.6\n",
      "#7 99.78   Downloading https://files.pythonhosted.org/packages/2d/eb/80f75ab480cfbd032442f06ec7c15ef88376c5ef7fd6f6bf2e0e03b47e31/tensorboard-2.7.0-py3-none-any.whl (5.8MB)\n",
      "#7 100.6 Collecting h5py>=2.9.0\n",
      "#7 100.6   Downloading https://files.pythonhosted.org/packages/d4/d8/6a121064f0e357dc24e5ab53945e9ec057bb1e5ca7da60355d06c89a3d36/h5py-3.6.0-cp38-cp38-manylinux_2_12_x86_64.manylinux2010_x86_64.whl (4.5MB)\n",
      "#7 101.4 Collecting protobuf>=3.9.2\n",
      "#7 101.4   Downloading https://files.pythonhosted.org/packages/c3/64/47ecccba745216c8ac4f590cc0af9405aa3254ae035dcc8e167379769fc5/protobuf-3.19.1-cp38-cp38-manylinux_2_17_x86_64.manylinux2014_x86_64.whl (1.1MB)\n",
      "#7 101.6 Requirement already satisfied: wheel<1.0,>=0.32.0 in /usr/local/lib/python3.8/site-packages (from tensorflow==2.7.0->-r requirements.txt (line 6)) (0.33.6)\n",
      "#7 101.6 Collecting keras-preprocessing>=1.1.1\n",
      "#7 101.6   Downloading https://files.pythonhosted.org/packages/79/4c/7c3275a01e12ef9368a892926ab932b33bb13d55794881e3573482b378a7/Keras_Preprocessing-1.1.2-py2.py3-none-any.whl (42kB)\n",
      "#7 101.7 Collecting keras<2.8,>=2.7.0rc0\n",
      "#7 101.7   Downloading https://files.pythonhosted.org/packages/6b/8b/065f94ba03282fa41b2d76942b87a180a9913312c4611ea7d6508fbbc114/keras-2.7.0-py2.py3-none-any.whl (1.3MB)\n",
      "#7 102.0 Collecting MarkupSafe>=2.0\n",
      "#7 102.0   Downloading https://files.pythonhosted.org/packages/68/ba/7a5ca0f9b4239e6fd846dd54c0b5928187355fa62fbdbd13e1c5942afae7/MarkupSafe-2.0.1-cp38-cp38-manylinux2010_x86_64.whl\n",
      "#7 102.1 Collecting PyYAML\n",
      "#7 102.1   Downloading https://files.pythonhosted.org/packages/d7/42/7ad4b6d67a16229496d4f6e74201bdbebcf4bc1e87d5a70c9297d4961bd2/PyYAML-6.0-cp38-cp38-manylinux_2_5_x86_64.manylinux1_x86_64.manylinux_2_12_x86_64.manylinux2010_x86_64.whl (701kB)\n",
      "#7 102.2 Requirement already satisfied: setuptools>=41.0.0 in /usr/local/lib/python3.8/site-packages (from tensorboard~=2.6->tensorflow==2.7.0->-r requirements.txt (line 6)) (41.6.0)\n",
      "#7 102.3 Collecting tensorboard-data-server<0.7.0,>=0.6.0\n",
      "#7 102.3   Downloading https://files.pythonhosted.org/packages/60/f9/802efd84988bffd9f644c03b6e66fde8e76c3aa33db4279ddd11c5d61f4b/tensorboard_data_server-0.6.1-py3-none-manylinux2010_x86_64.whl (4.9MB)\n",
      "#7 103.1 Collecting tensorboard-plugin-wit>=1.6.0\n",
      "#7 103.1   Downloading https://files.pythonhosted.org/packages/1a/c1/499e600ba0c618b451cd9c425ae1c177249940a2086316552fee7d86c954/tensorboard_plugin_wit-1.8.0-py3-none-any.whl (781kB)\n",
      "#7 103.3 Collecting markdown>=2.6.8\n",
      "#7 103.4   Downloading https://files.pythonhosted.org/packages/9f/d4/2c7f83915d437736996b2674300c6c4b578a6f897f34e40f5c04db146719/Markdown-3.3.6-py3-none-any.whl (97kB)\n",
      "#7 103.4 Collecting google-auth-oauthlib<0.5,>=0.4.1\n",
      "#7 103.5   Downloading https://files.pythonhosted.org/packages/b1/0e/0636cc1448a7abc444fb1b3a63655e294e0d2d49092dc3de05241be6d43c/google_auth_oauthlib-0.4.6-py2.py3-none-any.whl\n",
      "#7 103.6 Collecting google-auth<3,>=1.6.3\n",
      "#7 103.6   Downloading https://files.pythonhosted.org/packages/6a/f7/06cbd5ebfba40a9d51df6217f9325317d824234400454aebcf014e2eee38/google_auth-2.3.3-py2.py3-none-any.whl (155kB)\n",
      "#7 103.7 Collecting requests<3,>=2.21.0\n",
      "#7 103.7   Downloading https://files.pythonhosted.org/packages/92/96/144f70b972a9c0eabbd4391ef93ccd49d0f2747f4f6a2a2738e99e5adc65/requests-2.26.0-py2.py3-none-any.whl (62kB)\n",
      "#7 103.8 Collecting importlib-metadata>=4.4; python_version < \"3.10\"\n",
      "#7 103.8   Downloading https://files.pythonhosted.org/packages/c4/1f/e2238896149df09953efcc53bdcc7d23597d6c53e428c30e572eda5ec6eb/importlib_metadata-4.8.2-py3-none-any.whl\n",
      "#7 103.9 Collecting requests-oauthlib>=0.7.0\n",
      "#7 103.9   Downloading https://files.pythonhosted.org/packages/a3/12/b92740d845ab62ea4edf04d2f4164d82532b5a0b03836d4d4e71c6f3d379/requests_oauthlib-1.3.0-py2.py3-none-any.whl\n",
      "#7 104.0 Collecting cachetools<5.0,>=2.0.0\n",
      "#7 104.0   Downloading https://files.pythonhosted.org/packages/ea/c1/4740af52db75e6dbdd57fc7e9478439815bbac549c1c05881be27d19a17d/cachetools-4.2.4-py3-none-any.whl\n",
      "#7 104.0 Collecting pyasn1-modules>=0.2.1\n",
      "#7 104.1   Downloading https://files.pythonhosted.org/packages/95/de/214830a981892a3e286c3794f41ae67a4495df1108c3da8a9f62159b9a9d/pyasn1_modules-0.2.8-py2.py3-none-any.whl (155kB)\n",
      "#7 104.1 Collecting rsa<5,>=3.1.4; python_version >= \"3.6\"\n",
      "#7 104.2   Downloading https://files.pythonhosted.org/packages/30/ab/8fd9e88e6fa5ec41afca995938bbefb72195278e0cfc5bd76a4f29b23fb2/rsa-4.8-py3-none-any.whl\n",
      "#7 104.2 Collecting idna<4,>=2.5; python_version >= \"3\"\n",
      "#7 104.2   Downloading https://files.pythonhosted.org/packages/04/a2/d918dcd22354d8958fe113e1a3630137e0fc8b44859ade3063982eacd2a4/idna-3.3-py3-none-any.whl (61kB)\n",
      "#7 104.3 Collecting urllib3<1.27,>=1.21.1\n",
      "#7 104.3   Downloading https://files.pythonhosted.org/packages/af/f4/524415c0744552cce7d8bf3669af78e8a069514405ea4fcbd0cc44733744/urllib3-1.26.7-py2.py3-none-any.whl (138kB)\n",
      "#7 104.4 Collecting charset-normalizer~=2.0.0; python_version >= \"3\"\n",
      "#7 104.4   Downloading https://files.pythonhosted.org/packages/47/84/b06f6729fac8108c5fa3e13cde19b0b3de66ba5538c325496dbe39f5ff8e/charset_normalizer-2.0.9-py3-none-any.whl\n",
      "#7 104.4 Collecting certifi>=2017.4.17\n",
      "#7 104.5   Downloading https://files.pythonhosted.org/packages/37/45/946c02767aabb873146011e665728b680884cd8fe70dde973c640e45b775/certifi-2021.10.8-py2.py3-none-any.whl (149kB)\n",
      "#7 104.5 Collecting zipp>=0.5\n",
      "#7 104.6   Downloading https://files.pythonhosted.org/packages/bd/df/d4a4974a3e3957fd1c1fa3082366d7fff6e428ddb55f074bf64876f8e8ad/zipp-3.6.0-py3-none-any.whl\n",
      "#7 104.6 Collecting oauthlib>=3.0.0\n",
      "#7 104.6   Downloading https://files.pythonhosted.org/packages/e8/5d/9dd1c29e5a786525f6342f6c1d812ed2e37edc653ad297048c1668988053/oauthlib-3.1.1-py2.py3-none-any.whl (146kB)\n",
      "#7 104.7 Collecting pyasn1<0.5.0,>=0.4.6\n",
      "#7 104.7   Downloading https://files.pythonhosted.org/packages/62/1e/a94a8d635fa3ce4cfc7f506003548d0a2447ae76fd5ca53932970fe3053f/pyasn1-0.4.8-py2.py3-none-any.whl (77kB)\n",
      "#7 104.8 Building wheels for collected packages: termcolor\n",
      "#7 104.8   Building wheel for termcolor (setup.py): started\n",
      "#7 104.9   Building wheel for termcolor (setup.py): finished with status 'done'\n",
      "#7 104.9   Created wheel for termcolor: filename=termcolor-1.1.0-cp38-none-any.whl size=4833 sha256=4b7572b001fbfa7131498ae36d2b919a1ec072518655b43f402006c9a70cefe5\n",
      "#7 104.9   Stored in directory: /root/.cache/pip/wheels/7c/06/54/bc84598ba1daf8f970247f550b175aaaee85f68b4b0c5ab2c6\n",
      "#7 104.9 Successfully built termcolor\n",
      "#7 105.0 Installing collected packages: MarkupSafe, Jinja2, click, itsdangerous, Werkzeug, flask, numpy, six, python-dateutil, pytz, pandas, threadpoolctl, scipy, joblib, scikit-learn, PyYAML, pyaml, scikit-optimize, termcolor, flatbuffers, gast, opt-einsum, absl-py, wrapt, astunparse, tensorflow-estimator, tensorflow-io-gcs-filesystem, grpcio, typing-extensions, libclang, google-pasta, tensorboard-data-server, tensorboard-plugin-wit, zipp, importlib-metadata, markdown, cachetools, pyasn1, pyasn1-modules, rsa, google-auth, idna, urllib3, charset-normalizer, certifi, requests, oauthlib, requests-oauthlib, google-auth-oauthlib, protobuf, tensorboard, h5py, keras-preprocessing, keras, tensorflow\n",
      "#7 114.7 Successfully installed Jinja2-3.0.3 MarkupSafe-2.0.1 PyYAML-6.0 Werkzeug-2.0.2 absl-py-1.0.0 astunparse-1.6.3 cachetools-4.2.4 certifi-2021.10.8 charset-normalizer-2.0.9 click-8.0.3 flask-2.0.2 flatbuffers-2.0 gast-0.4.0 google-auth-2.3.3 google-auth-oauthlib-0.4.6 google-pasta-0.2.0 grpcio-1.42.0 h5py-3.6.0 idna-3.3 importlib-metadata-4.8.2 itsdangerous-2.0.1 joblib-1.1.0 keras-2.7.0 keras-preprocessing-1.1.2 libclang-12.0.0 markdown-3.3.6 numpy-1.19.5 oauthlib-3.1.1 opt-einsum-3.3.0 pandas-1.3.4 protobuf-3.19.1 pyaml-21.10.1 pyasn1-0.4.8 pyasn1-modules-0.2.8 python-dateutil-2.8.2 pytz-2021.3 requests-2.26.0 requests-oauthlib-1.3.0 rsa-4.8 scikit-learn-1.0 scikit-optimize-0.9.0 scipy-1.7.3 six-1.16.0 tensorboard-2.7.0 tensorboard-data-server-0.6.1 tensorboard-plugin-wit-1.8.0 tensorflow-2.7.0 tensorflow-estimator-2.7.0 tensorflow-io-gcs-filesystem-0.22.0 termcolor-1.1.0 threadpoolctl-3.0.0 typing-extensions-4.0.1 urllib3-1.26.7 wrapt-1.13.3 zipp-3.6.0\n",
      "#7 115.2 WARNING: You are using pip version 19.3.1; however, version 21.3.1 is available.\n",
      "#7 115.2 You should consider upgrading via the 'pip install --upgrade pip' command.\n",
      "#7 DONE 117.1s\n",
      "\n",
      "#8 [4/5] COPY . .\n",
      "#8 sha256:172e91b24a2d38cf6c3a117feb9eb2eaffe85366e3a1e1998f7d3660ec075dd1\n",
      "#8 DONE 0.0s\n",
      "\n",
      "#9 [5/5] WORKDIR /app\n",
      "#9 sha256:9ea940f4a13302b5dfde0ebac166dfa017eb49f7cfd59a1281167f250e41bb02\n",
      "#9 DONE 0.0s\n",
      "\n",
      "#11 exporting to image\n",
      "#11 sha256:e8c613e07b0b7ff33893b694f7759a10d42e180f2b4dc349fb57dc6b71dcab00\n",
      "#11 exporting layers\n",
      "#11 exporting layers 6.4s done\n",
      "#11 writing image sha256:81d5dec802310d11f862e0dbe0c78e4a69fdabb714968bff36236918a8c31997 done\n",
      "#11 naming to docker.io/library/rt_mf done\n",
      "#11 DONE 6.4s\n",
      "\n",
      "Use 'docker scan' to run Snyk tests against images to find vulnerabilities and learn how to fix them\n"
     ]
    }
   ],
   "source": [
    "%%bash \n",
    "docker build -t rt_mf ./mf_gd"
   ]
  },
  {
   "cell_type": "markdown",
   "id": "da862320",
   "metadata": {},
   "source": [
    "# Run Image"
   ]
  },
  {
   "cell_type": "code",
   "execution_count": 76,
   "id": "37a6521a",
   "metadata": {},
   "outputs": [
    {
     "name": "stdout",
     "output_type": "stream",
     "text": [
      "/mnt/c/Users/abbus/OneDrive/ReadyTensor/2_pitch deck/GitRepos/ready_tensor/Recommenders/recommender_images/recommender_base\n"
     ]
    }
   ],
   "source": [
    "%%bash \n",
    "declare vol_path=\"$(pwd)/ml_vol\"\n",
    "echo $(pwd)"
   ]
  },
  {
   "cell_type": "code",
   "execution_count": 73,
   "id": "fcb7243c",
   "metadata": {},
   "outputs": [],
   "source": [
    "%%bash \n",
    "declare vol_path=\"$(pwd)/ml_vol\"\n",
    "docker run -d -p 3000:3000 -v $(vol_path):/app/ml_vol --name mfc rt_mf"
   ]
  },
  {
   "cell_type": "markdown",
   "id": "b229d850",
   "metadata": {},
   "source": [
    "# Check Container and Image"
   ]
  },
  {
   "cell_type": "code",
   "execution_count": 44,
   "id": "7dc34742",
   "metadata": {},
   "outputs": [
    {
     "name": "stdout",
     "output_type": "stream",
     "text": [
      "CONTAINER ID   IMAGE     COMMAND                  CREATED         STATUS         PORTS                    NAMES\n",
      "45298ba8e023   rt_mf     \"/bin/sh -c 'python â€¦\"   7 seconds ago   Up 6 seconds   0.0.0.0:3000->3000/tcp   mfc\n"
     ]
    }
   ],
   "source": [
    "%%bash \n",
    "docker ps"
   ]
  },
  {
   "cell_type": "code",
   "execution_count": 37,
   "id": "9e9fb4a0",
   "metadata": {},
   "outputs": [],
   "source": [
    "#%%bash \n",
    "#docker inspect mfc"
   ]
  },
  {
   "cell_type": "code",
   "execution_count": 50,
   "id": "1712866d",
   "metadata": {},
   "outputs": [
    {
     "name": "stdout",
     "output_type": "stream",
     "text": [
      "/mnt/c/Users/abbus/OneDrive/ReadyTensor/2_pitch deck/GitRepos/ready_tensor/Recommenders/recommender_images/recommender_base\n"
     ]
    }
   ],
   "source": [
    "%%bash \n",
    "echo $(pwd)"
   ]
  },
  {
   "cell_type": "markdown",
   "id": "63677bbb",
   "metadata": {},
   "source": [
    "# Run Training"
   ]
  },
  {
   "cell_type": "code",
   "execution_count": 38,
   "id": "a833472a",
   "metadata": {
    "scrolled": true
   },
   "outputs": [
    {
     "name": "stdout",
     "output_type": "stream",
     "text": [
      "Starting the training process...\n"
     ]
    },
    {
     "name": "stderr",
     "output_type": "stream",
     "text": [
      "2021-12-04 14:56:15.323282: W tensorflow/stream_executor/platform/default/dso_loader.cc:64] Could not load dynamic library 'libcudart.so.11.0'; dlerror: libcudart.so.11.0: cannot open shared object file: No such file or directory\n",
      "2021-12-04 14:56:15.323321: I tensorflow/stream_executor/cuda/cudart_stub.cc:29] Ignore above cudart dlerror if you do not have a GPU set up on your machine.\n",
      "Traceback (most recent call last):\n",
      "  File \"/app/algorithm/train_test_predict.py\", line 49, in get_data\n",
      "    data = pd.read_csv(data_path)\n",
      "  File \"/usr/local/lib/python3.8/site-packages/pandas/util/_decorators.py\", line 311, in wrapper\n",
      "    return func(*args, **kwargs)\n",
      "  File \"/usr/local/lib/python3.8/site-packages/pandas/io/parsers/readers.py\", line 586, in read_csv\n",
      "    return _read(filepath_or_buffer, kwds)\n",
      "  File \"/usr/local/lib/python3.8/site-packages/pandas/io/parsers/readers.py\", line 482, in _read\n",
      "    parser = TextFileReader(filepath_or_buffer, **kwds)\n",
      "  File \"/usr/local/lib/python3.8/site-packages/pandas/io/parsers/readers.py\", line 811, in __init__\n",
      "    self._engine = self._make_engine(self.engine)\n",
      "  File \"/usr/local/lib/python3.8/site-packages/pandas/io/parsers/readers.py\", line 1040, in _make_engine\n",
      "    return mapping[engine](self.f, **self.options)  # type: ignore[call-arg]\n",
      "  File \"/usr/local/lib/python3.8/site-packages/pandas/io/parsers/c_parser_wrapper.py\", line 51, in __init__\n",
      "    self._open_handles(src, kwds)\n",
      "  File \"/usr/local/lib/python3.8/site-packages/pandas/io/parsers/base_parser.py\", line 222, in _open_handles\n",
      "    self.handles = get_handle(\n",
      "  File \"/usr/local/lib/python3.8/site-packages/pandas/io/common.py\", line 702, in get_handle\n",
      "    handle = open(\n",
      "FileNotFoundError: [Errno 2] No such file or directory: './ml_vol/data/train/ratings_train.csv'\n",
      "\n",
      "During handling of the above exception, another exception occurred:\n",
      "\n",
      "Traceback (most recent call last):\n",
      "  File \"train.py\", line 14, in <module>\n",
      "    train() \n",
      "  File \"train.py\", line 8, in train\n",
      "    resp = train_model(paths.train_data_path, paths.model_path, paths.logs_path)\n",
      "  File \"/app/algorithm/train_test_predict.py\", line 68, in train_model\n",
      "    orig_train_data = get_data(train_data_path)\n",
      "  File \"/app/algorithm/train_test_predict.py\", line 52, in get_data\n",
      "    raise Exception(f\"Error reading data at: {data_path}\")\n",
      "Exception: Error reading data at: ./ml_vol/data/train/ratings_train.csv\n"
     ]
    },
    {
     "ename": "CalledProcessError",
     "evalue": "Command 'b'docker exec mfc python train.py\\n'' returned non-zero exit status 1.",
     "output_type": "error",
     "traceback": [
      "\u001b[1;31m---------------------------------------------------------------------------\u001b[0m",
      "\u001b[1;31mCalledProcessError\u001b[0m                        Traceback (most recent call last)",
      "\u001b[1;32m~\\AppData\\Local\\Temp/ipykernel_26924/2083003922.py\u001b[0m in \u001b[0;36m<module>\u001b[1;34m\u001b[0m\n\u001b[1;32m----> 1\u001b[1;33m \u001b[0mget_ipython\u001b[0m\u001b[1;33m(\u001b[0m\u001b[1;33m)\u001b[0m\u001b[1;33m.\u001b[0m\u001b[0mrun_cell_magic\u001b[0m\u001b[1;33m(\u001b[0m\u001b[1;34m'bash'\u001b[0m\u001b[1;33m,\u001b[0m \u001b[1;34m''\u001b[0m\u001b[1;33m,\u001b[0m \u001b[1;34m'docker exec mfc python train.py\\n'\u001b[0m\u001b[1;33m)\u001b[0m\u001b[1;33m\u001b[0m\u001b[1;33m\u001b[0m\u001b[0m\n\u001b[0m",
      "\u001b[1;32m~\\anaconda3\\lib\\site-packages\\IPython\\core\\interactiveshell.py\u001b[0m in \u001b[0;36mrun_cell_magic\u001b[1;34m(self, magic_name, line, cell)\u001b[0m\n\u001b[0;32m   2404\u001b[0m             \u001b[1;32mwith\u001b[0m \u001b[0mself\u001b[0m\u001b[1;33m.\u001b[0m\u001b[0mbuiltin_trap\u001b[0m\u001b[1;33m:\u001b[0m\u001b[1;33m\u001b[0m\u001b[1;33m\u001b[0m\u001b[0m\n\u001b[0;32m   2405\u001b[0m                 \u001b[0margs\u001b[0m \u001b[1;33m=\u001b[0m \u001b[1;33m(\u001b[0m\u001b[0mmagic_arg_s\u001b[0m\u001b[1;33m,\u001b[0m \u001b[0mcell\u001b[0m\u001b[1;33m)\u001b[0m\u001b[1;33m\u001b[0m\u001b[1;33m\u001b[0m\u001b[0m\n\u001b[1;32m-> 2406\u001b[1;33m                 \u001b[0mresult\u001b[0m \u001b[1;33m=\u001b[0m \u001b[0mfn\u001b[0m\u001b[1;33m(\u001b[0m\u001b[1;33m*\u001b[0m\u001b[0margs\u001b[0m\u001b[1;33m,\u001b[0m \u001b[1;33m**\u001b[0m\u001b[0mkwargs\u001b[0m\u001b[1;33m)\u001b[0m\u001b[1;33m\u001b[0m\u001b[1;33m\u001b[0m\u001b[0m\n\u001b[0m\u001b[0;32m   2407\u001b[0m             \u001b[1;32mreturn\u001b[0m \u001b[0mresult\u001b[0m\u001b[1;33m\u001b[0m\u001b[1;33m\u001b[0m\u001b[0m\n\u001b[0;32m   2408\u001b[0m \u001b[1;33m\u001b[0m\u001b[0m\n",
      "\u001b[1;32m~\\anaconda3\\lib\\site-packages\\IPython\\core\\magics\\script.py\u001b[0m in \u001b[0;36mnamed_script_magic\u001b[1;34m(line, cell)\u001b[0m\n\u001b[0;32m    140\u001b[0m             \u001b[1;32melse\u001b[0m\u001b[1;33m:\u001b[0m\u001b[1;33m\u001b[0m\u001b[1;33m\u001b[0m\u001b[0m\n\u001b[0;32m    141\u001b[0m                 \u001b[0mline\u001b[0m \u001b[1;33m=\u001b[0m \u001b[0mscript\u001b[0m\u001b[1;33m\u001b[0m\u001b[1;33m\u001b[0m\u001b[0m\n\u001b[1;32m--> 142\u001b[1;33m             \u001b[1;32mreturn\u001b[0m \u001b[0mself\u001b[0m\u001b[1;33m.\u001b[0m\u001b[0mshebang\u001b[0m\u001b[1;33m(\u001b[0m\u001b[0mline\u001b[0m\u001b[1;33m,\u001b[0m \u001b[0mcell\u001b[0m\u001b[1;33m)\u001b[0m\u001b[1;33m\u001b[0m\u001b[1;33m\u001b[0m\u001b[0m\n\u001b[0m\u001b[0;32m    143\u001b[0m \u001b[1;33m\u001b[0m\u001b[0m\n\u001b[0;32m    144\u001b[0m         \u001b[1;31m# write a basic docstring:\u001b[0m\u001b[1;33m\u001b[0m\u001b[1;33m\u001b[0m\u001b[0m\n",
      "\u001b[1;32m~\\anaconda3\\lib\\site-packages\\decorator.py\u001b[0m in \u001b[0;36mfun\u001b[1;34m(*args, **kw)\u001b[0m\n\u001b[0;32m    230\u001b[0m             \u001b[1;32mif\u001b[0m \u001b[1;32mnot\u001b[0m \u001b[0mkwsyntax\u001b[0m\u001b[1;33m:\u001b[0m\u001b[1;33m\u001b[0m\u001b[1;33m\u001b[0m\u001b[0m\n\u001b[0;32m    231\u001b[0m                 \u001b[0margs\u001b[0m\u001b[1;33m,\u001b[0m \u001b[0mkw\u001b[0m \u001b[1;33m=\u001b[0m \u001b[0mfix\u001b[0m\u001b[1;33m(\u001b[0m\u001b[0margs\u001b[0m\u001b[1;33m,\u001b[0m \u001b[0mkw\u001b[0m\u001b[1;33m,\u001b[0m \u001b[0msig\u001b[0m\u001b[1;33m)\u001b[0m\u001b[1;33m\u001b[0m\u001b[1;33m\u001b[0m\u001b[0m\n\u001b[1;32m--> 232\u001b[1;33m             \u001b[1;32mreturn\u001b[0m \u001b[0mcaller\u001b[0m\u001b[1;33m(\u001b[0m\u001b[0mfunc\u001b[0m\u001b[1;33m,\u001b[0m \u001b[1;33m*\u001b[0m\u001b[1;33m(\u001b[0m\u001b[0mextras\u001b[0m \u001b[1;33m+\u001b[0m \u001b[0margs\u001b[0m\u001b[1;33m)\u001b[0m\u001b[1;33m,\u001b[0m \u001b[1;33m**\u001b[0m\u001b[0mkw\u001b[0m\u001b[1;33m)\u001b[0m\u001b[1;33m\u001b[0m\u001b[1;33m\u001b[0m\u001b[0m\n\u001b[0m\u001b[0;32m    233\u001b[0m     \u001b[0mfun\u001b[0m\u001b[1;33m.\u001b[0m\u001b[0m__name__\u001b[0m \u001b[1;33m=\u001b[0m \u001b[0mfunc\u001b[0m\u001b[1;33m.\u001b[0m\u001b[0m__name__\u001b[0m\u001b[1;33m\u001b[0m\u001b[1;33m\u001b[0m\u001b[0m\n\u001b[0;32m    234\u001b[0m     \u001b[0mfun\u001b[0m\u001b[1;33m.\u001b[0m\u001b[0m__doc__\u001b[0m \u001b[1;33m=\u001b[0m \u001b[0mfunc\u001b[0m\u001b[1;33m.\u001b[0m\u001b[0m__doc__\u001b[0m\u001b[1;33m\u001b[0m\u001b[1;33m\u001b[0m\u001b[0m\n",
      "\u001b[1;32m~\\anaconda3\\lib\\site-packages\\IPython\\core\\magic.py\u001b[0m in \u001b[0;36m<lambda>\u001b[1;34m(f, *a, **k)\u001b[0m\n\u001b[0;32m    185\u001b[0m     \u001b[1;31m# but it's overkill for just that one bit of state.\u001b[0m\u001b[1;33m\u001b[0m\u001b[1;33m\u001b[0m\u001b[0m\n\u001b[0;32m    186\u001b[0m     \u001b[1;32mdef\u001b[0m \u001b[0mmagic_deco\u001b[0m\u001b[1;33m(\u001b[0m\u001b[0marg\u001b[0m\u001b[1;33m)\u001b[0m\u001b[1;33m:\u001b[0m\u001b[1;33m\u001b[0m\u001b[1;33m\u001b[0m\u001b[0m\n\u001b[1;32m--> 187\u001b[1;33m         \u001b[0mcall\u001b[0m \u001b[1;33m=\u001b[0m \u001b[1;32mlambda\u001b[0m \u001b[0mf\u001b[0m\u001b[1;33m,\u001b[0m \u001b[1;33m*\u001b[0m\u001b[0ma\u001b[0m\u001b[1;33m,\u001b[0m \u001b[1;33m**\u001b[0m\u001b[0mk\u001b[0m\u001b[1;33m:\u001b[0m \u001b[0mf\u001b[0m\u001b[1;33m(\u001b[0m\u001b[1;33m*\u001b[0m\u001b[0ma\u001b[0m\u001b[1;33m,\u001b[0m \u001b[1;33m**\u001b[0m\u001b[0mk\u001b[0m\u001b[1;33m)\u001b[0m\u001b[1;33m\u001b[0m\u001b[1;33m\u001b[0m\u001b[0m\n\u001b[0m\u001b[0;32m    188\u001b[0m \u001b[1;33m\u001b[0m\u001b[0m\n\u001b[0;32m    189\u001b[0m         \u001b[1;32mif\u001b[0m \u001b[0mcallable\u001b[0m\u001b[1;33m(\u001b[0m\u001b[0marg\u001b[0m\u001b[1;33m)\u001b[0m\u001b[1;33m:\u001b[0m\u001b[1;33m\u001b[0m\u001b[1;33m\u001b[0m\u001b[0m\n",
      "\u001b[1;32m~\\anaconda3\\lib\\site-packages\\IPython\\core\\magics\\script.py\u001b[0m in \u001b[0;36mshebang\u001b[1;34m(self, line, cell)\u001b[0m\n\u001b[0;32m    243\u001b[0m             \u001b[0msys\u001b[0m\u001b[1;33m.\u001b[0m\u001b[0mstderr\u001b[0m\u001b[1;33m.\u001b[0m\u001b[0mflush\u001b[0m\u001b[1;33m(\u001b[0m\u001b[1;33m)\u001b[0m\u001b[1;33m\u001b[0m\u001b[1;33m\u001b[0m\u001b[0m\n\u001b[0;32m    244\u001b[0m         \u001b[1;32mif\u001b[0m \u001b[0margs\u001b[0m\u001b[1;33m.\u001b[0m\u001b[0mraise_error\u001b[0m \u001b[1;32mand\u001b[0m \u001b[0mp\u001b[0m\u001b[1;33m.\u001b[0m\u001b[0mreturncode\u001b[0m\u001b[1;33m!=\u001b[0m\u001b[1;36m0\u001b[0m\u001b[1;33m:\u001b[0m\u001b[1;33m\u001b[0m\u001b[1;33m\u001b[0m\u001b[0m\n\u001b[1;32m--> 245\u001b[1;33m             \u001b[1;32mraise\u001b[0m \u001b[0mCalledProcessError\u001b[0m\u001b[1;33m(\u001b[0m\u001b[0mp\u001b[0m\u001b[1;33m.\u001b[0m\u001b[0mreturncode\u001b[0m\u001b[1;33m,\u001b[0m \u001b[0mcell\u001b[0m\u001b[1;33m,\u001b[0m \u001b[0moutput\u001b[0m\u001b[1;33m=\u001b[0m\u001b[0mout\u001b[0m\u001b[1;33m,\u001b[0m \u001b[0mstderr\u001b[0m\u001b[1;33m=\u001b[0m\u001b[0merr\u001b[0m\u001b[1;33m)\u001b[0m\u001b[1;33m\u001b[0m\u001b[1;33m\u001b[0m\u001b[0m\n\u001b[0m\u001b[0;32m    246\u001b[0m \u001b[1;33m\u001b[0m\u001b[0m\n\u001b[0;32m    247\u001b[0m     \u001b[1;32mdef\u001b[0m \u001b[0m_run_script\u001b[0m\u001b[1;33m(\u001b[0m\u001b[0mself\u001b[0m\u001b[1;33m,\u001b[0m \u001b[0mp\u001b[0m\u001b[1;33m,\u001b[0m \u001b[0mcell\u001b[0m\u001b[1;33m,\u001b[0m \u001b[0mto_close\u001b[0m\u001b[1;33m)\u001b[0m\u001b[1;33m:\u001b[0m\u001b[1;33m\u001b[0m\u001b[1;33m\u001b[0m\u001b[0m\n",
      "\u001b[1;31mCalledProcessError\u001b[0m: Command 'b'docker exec mfc python train.py\\n'' returned non-zero exit status 1."
     ]
    }
   ],
   "source": [
    "%%bash \n",
    "docker exec mfc python train.py"
   ]
  },
  {
   "cell_type": "code",
   "execution_count": null,
   "id": "28747aff",
   "metadata": {},
   "outputs": [],
   "source": []
  },
  {
   "cell_type": "code",
   "execution_count": null,
   "id": "00394977",
   "metadata": {},
   "outputs": [],
   "source": []
  },
  {
   "cell_type": "code",
   "execution_count": null,
   "id": "dbafadab",
   "metadata": {},
   "outputs": [],
   "source": []
  }
 ],
 "metadata": {
  "kernelspec": {
   "display_name": "Python 3 (ipykernel)",
   "language": "python",
   "name": "python3"
  },
  "language_info": {
   "codemirror_mode": {
    "name": "ipython",
    "version": 3
   },
   "file_extension": ".py",
   "mimetype": "text/x-python",
   "name": "python",
   "nbconvert_exporter": "python",
   "pygments_lexer": "ipython3",
   "version": "3.9.7"
  }
 },
 "nbformat": 4,
 "nbformat_minor": 5
}
