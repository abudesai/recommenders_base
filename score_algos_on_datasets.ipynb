{
 "cells": [
  {
   "cell_type": "code",
   "execution_count": 2,
   "id": "93857a78",
   "metadata": {},
   "outputs": [],
   "source": [
    "import numpy as np, pandas as pd\n",
    "import os, shutil\n",
    "from distutils.dir_util import copy_tree"
   ]
  },
  {
   "cell_type": "code",
   "execution_count": 3,
   "id": "52f38596",
   "metadata": {},
   "outputs": [],
   "source": [
    "from IPython.utils import io"
   ]
  },
  {
   "cell_type": "code",
   "execution_count": 25,
   "id": "ff88d12d",
   "metadata": {},
   "outputs": [],
   "source": [
    "src_path = './source_data/'\n",
    "shared_vol_name = 'ml_vol'\n",
    "dest_dir_path = '/ml'\n",
    "dest_data_path = os.path.join(shared_vol_name, 'data')\n",
    "\n",
    "final_results_dir = 'all_results'"
   ]
  },
  {
   "cell_type": "code",
   "execution_count": 26,
   "id": "2f81a937",
   "metadata": {},
   "outputs": [],
   "source": [
    "def clear_directory(folder):\n",
    "    if not os.path.exists(folder): return\n",
    "    for fname in os.listdir(folder):\n",
    "        fpath = os.path.join(folder, fname)\n",
    "        try:\n",
    "            if os.path.isfile(fpath) or os.path.islink(fpath):\n",
    "                os.unlink(fpath)\n",
    "            elif os.path.isdir(fpath):\n",
    "                shutil.rmtree(fpath)\n",
    "        except Exception as e:\n",
    "            print('Failed to delete %s. Reason: %s' % (fpath, e))"
   ]
  },
  {
   "cell_type": "code",
   "execution_count": 27,
   "id": "f5da7f57",
   "metadata": {},
   "outputs": [],
   "source": [
    "def initiate_shared_vol():\n",
    "    # Run this as-is. Do not change any folder names!!! \n",
    "    if os.path.exists(shared_vol_name): \n",
    "        clear_directory(shared_vol_name)\n",
    "    else:\n",
    "        os.mkdir(shared_vol_name)\n",
    "        \n",
    "    subdirs = ['data', 'logs', 'model', 'output']\n",
    "    for subdir in subdirs: \n",
    "        sub_dir_path = os.path.join(shared_vol_name, subdir)\n",
    "        os.mkdir(sub_dir_path)\n",
    "\n",
    "    subdirs = ['train', 'test']\n",
    "    for subdir in subdirs: \n",
    "        sub_dir_path = os.path.join(shared_vol_name, 'data', subdir)\n",
    "        os.mkdir(sub_dir_path)"
   ]
  },
  {
   "cell_type": "code",
   "execution_count": 28,
   "id": "52be0670",
   "metadata": {},
   "outputs": [],
   "source": [
    "def copy_dataset_files(dataset):\n",
    "    src_dataset_path = os.path.join(src_path, dataset, 'processed')\n",
    "    for input_type in ['train', 'test']:\n",
    "        full_src = os.path.join(src_dataset_path, input_type)\n",
    "        full_dest = os.path.join(dest_data_path, input_type)\n",
    "\n",
    "        if os.path.exists(full_src): copy_tree(full_src, full_dest)"
   ]
  },
  {
   "cell_type": "code",
   "execution_count": 29,
   "id": "d9b17d22",
   "metadata": {},
   "outputs": [],
   "source": [
    "def save_results(algo_name, dataset):\n",
    "    # main algo directory in the outputs folder\n",
    "    algo_dir = os.path.join(final_results_dir, algo_name)\n",
    "    if not os.path.exists(algo_dir): os.mkdir(algo_dir)\n",
    "    \n",
    "    # dataset sub dir inside of the algo directory\n",
    "    dataset_dir = os.path.join(algo_dir, dataset)\n",
    "    if not os.path.exists(dataset_dir): os.mkdir(dataset_dir)\n",
    "        \n",
    "    subdirs = ['model', 'output']\n",
    "    for subdir in subdirs: \n",
    "        from_path = os.path.join(shared_vol_name, subdir)\n",
    "        to_path = os.path.join(dataset_dir, subdir)\n",
    "        if not os.path.exists(to_path): \n",
    "            os.mkdir(to_path)\n",
    "        else:\n",
    "            clear_directory(to_path)\n",
    "        \n",
    "        copied_content = copy_tree(from_path, to_path) \n",
    "#         print(copied_content)\n",
    "\n",
    "# save_results(\"rec_base_mf\", \"jester\")"
   ]
  },
  {
   "cell_type": "code",
   "execution_count": 30,
   "id": "3c35aa2e",
   "metadata": {},
   "outputs": [],
   "source": [
    "datasets = [\n",
    "        \"jester\", \n",
    "    #     \"anime\", \n",
    "    #     \"book-crossing\", \n",
    "    #     \"movielens-10m\", \n",
    "    #     \"movielens-20m\"\n",
    "    ]\n",
    "\n",
    "algos = [\n",
    "#    {\n",
    "#        \"algo_name\": \"rec_base_mf\",\n",
    "#        \"image\":  \"abudesai/rec_base_mf:latest\",\n",
    "#    },\n",
    "    {\n",
    "       \"algo_name\": \"rec_base_mf_res\",\n",
    "       \"image\":  \"abudesai/rec_base_mf_res:latest\",\n",
    "   },\n",
    "    {\n",
    "       \"algo_name\": \"rec_base_autorec\",\n",
    "       \"image\":  \"abudesai/rec_base_autorec:latest\",\n",
    "   },    \n",
    "    \n",
    "]"
   ]
  },
  {
   "cell_type": "code",
   "execution_count": 31,
   "id": "5c2b8a68",
   "metadata": {},
   "outputs": [
    {
     "name": "stdout",
     "output_type": "stream",
     "text": [
      "Running....\n",
      "dataset: jester\n",
      "image: abudesai/rec_base_mf_res:latest\n",
      "algo_name: rec_base_mf_res\n",
      "--------------------------------------------------------------------------------\n",
      "Running....\n",
      "dataset: jester\n",
      "image: abudesai/rec_base_autorec:latest\n",
      "algo_name: rec_base_autorec\n",
      "--------------------------------------------------------------------------------\n",
      "all done\n",
      "Wall time: 17min 5s\n"
     ]
    }
   ],
   "source": [
    "%%time\n",
    "for algo in algos: \n",
    "    for dataset in datasets:\n",
    "        \n",
    "        algo_name = algo[\"algo_name\"]\n",
    "        image = algo[\"image\"]\n",
    "        \n",
    "        print(\"Running....\")\n",
    "        print('dataset:', dataset); print('image:', image); print('algo_name:', algo_name)\n",
    "        \n",
    "        initiate_shared_vol()\n",
    "        copy_dataset_files(dataset)        \n",
    "        \n",
    "        with io.capture_output() as captured:\n",
    "            !bash score_algos.sh  -i $image -a $algo_name -v $shared_vol_name\n",
    "        \n",
    "        save_results(algo_name, dataset)\n",
    "        print(\"Finished running on dataset...\")\n",
    "        print(\"-\"*80)\n",
    "print(\"all done\")"
   ]
  },
  {
   "cell_type": "code",
   "execution_count": null,
   "id": "114b5ad1",
   "metadata": {},
   "outputs": [],
   "source": []
  }
 ],
 "metadata": {
  "kernelspec": {
   "display_name": "Python 3 (ipykernel)",
   "language": "python",
   "name": "python3"
  },
  "language_info": {
   "codemirror_mode": {
    "name": "ipython",
    "version": 3
   },
   "file_extension": ".py",
   "mimetype": "text/x-python",
   "name": "python",
   "nbconvert_exporter": "python",
   "pygments_lexer": "ipython3",
   "version": "3.9.7"
  }
 },
 "nbformat": 4,
 "nbformat_minor": 5
}
