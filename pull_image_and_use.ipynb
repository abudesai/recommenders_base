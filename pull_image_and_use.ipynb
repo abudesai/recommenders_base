{
 "cells": [
  {
   "cell_type": "markdown",
   "id": "a129a748",
   "metadata": {},
   "source": [
    "# Imports"
   ]
  },
  {
   "cell_type": "code",
   "execution_count": 1,
   "id": "e867f973",
   "metadata": {},
   "outputs": [],
   "source": [
    "import numpy as np, pandas as pd\n",
    "import os, shutil\n",
    "from distutils.dir_util import copy_tree"
   ]
  },
  {
   "cell_type": "markdown",
   "id": "0fbff61f",
   "metadata": {},
   "source": [
    "# Define source path for train and test data"
   ]
  },
  {
   "cell_type": "code",
   "execution_count": 2,
   "id": "f4461fd9",
   "metadata": {},
   "outputs": [],
   "source": [
    "'''\n",
    "Define the path to the train and test data files on your local computer. \n",
    "\n",
    "src_path should be a directory which has two folders: 1) train, and 2) test\n",
    "'train' folder must have a file called: ratings_train.csv\n",
    "'test' folder must have a file called : ratings_test.csv \n",
    "'''\n",
    "\n",
    "# path to your folder which has train and test folders in it \n",
    "src_path = f'./data/'"
   ]
  },
  {
   "cell_type": "markdown",
   "id": "284ebf01",
   "metadata": {},
   "source": [
    "# Make Volume to Mount with appropriate folders\n",
    "This is a folder created in this present directory. <br>\n",
    "We will copy the data files into this folder and then bind mount this folder into the container. <br>\n",
    "When the container is run, model artifacts and other outputs will also be saved to this same folder.<br>\n",
    "These files on the shared volume will persist when the container is shut down.<br>"
   ]
  },
  {
   "cell_type": "code",
   "execution_count": null,
   "id": "705ada61",
   "metadata": {},
   "outputs": [],
   "source": [
    "# Run this as-is. Do not change any folder names!!! \n",
    "mounted_volume = 'ml_vol'\n",
    "if os.path.exists(mounted_volume): shutil.rmtree(mounted_volume)\n",
    "\n",
    "os.mkdir(mounted_volume)\n",
    "subdirs = ['data', 'logs', 'model', 'output', 'score']\n",
    "for subdir in subdirs: \n",
    "    sub_dir_path = os.path.join(mounted_volume, subdir)\n",
    "    os.mkdir(sub_dir_path)\n",
    "\n",
    "subdirs = ['train', 'test']\n",
    "for subdir in subdirs: \n",
    "    sub_dir_path = os.path.join(mounted_volume, 'data', subdir)\n",
    "    os.mkdir(sub_dir_path)"
   ]
  },
  {
   "cell_type": "markdown",
   "id": "4d666b6e",
   "metadata": {},
   "source": [
    "# Copy Data from Source Path Into Mounted Volume"
   ]
  },
  {
   "cell_type": "code",
   "execution_count": 4,
   "id": "49ebe36d",
   "metadata": {},
   "outputs": [],
   "source": [
    "dest_path = os.path.join(mounted_volume, 'data')\n",
    "for input_type in ['train', 'test']:\n",
    "    full_src = os.path.join(src_path, input_type)\n",
    "    full_dest = os.path.join(dest_path, input_type)\n",
    "    \n",
    "    if os.path.exists(full_src): copy_tree(full_src, full_dest)"
   ]
  },
  {
   "cell_type": "markdown",
   "id": "5fbe7e78",
   "metadata": {},
   "source": [
    "# Create Container From Image"
   ]
  },
  {
   "cell_type": "code",
   "execution_count": null,
   "id": "3adc7bd8",
   "metadata": {},
   "outputs": [],
   "source": [
    "%%bash \n",
    "declare vol_path=\"$(pwd)/ml_vol\"\n",
    "docker run -d -p 3000:3000 -v $vol_path:/app/ml_vol --name mfc abudesai/rec_base_mf_res:1"
   ]
  },
  {
   "cell_type": "markdown",
   "id": "b75e24c3",
   "metadata": {},
   "source": [
    "# Check Container and Image"
   ]
  },
  {
   "cell_type": "code",
   "execution_count": null,
   "id": "758779e2",
   "metadata": {},
   "outputs": [],
   "source": [
    "%%bash \n",
    "docker ps"
   ]
  },
  {
   "cell_type": "markdown",
   "id": "e0f5ea9a",
   "metadata": {},
   "source": [
    "# Run Training¶"
   ]
  },
  {
   "cell_type": "code",
   "execution_count": null,
   "id": "33e7241e",
   "metadata": {},
   "outputs": [],
   "source": [
    "%%bash \n",
    "docker exec mfc python train.py"
   ]
  },
  {
   "cell_type": "markdown",
   "id": "5fc58e60",
   "metadata": {},
   "source": [
    "# Run Test Data Predictions"
   ]
  },
  {
   "cell_type": "code",
   "execution_count": null,
   "id": "d6c88364",
   "metadata": {},
   "outputs": [],
   "source": [
    "%%bash \n",
    "docker exec mfc python predict.py"
   ]
  },
  {
   "cell_type": "markdown",
   "id": "a699d443",
   "metadata": {},
   "source": [
    "# Score Test Data Predictions"
   ]
  },
  {
   "cell_type": "code",
   "execution_count": null,
   "id": "01acd80e",
   "metadata": {},
   "outputs": [],
   "source": [
    "%%bash \n",
    "docker exec mfc python score.py"
   ]
  },
  {
   "cell_type": "markdown",
   "id": "af8f862b",
   "metadata": {},
   "source": [
    "# Check Outputs In mounted volume\n",
    "- data: this is where we mounted training and test data\n",
    "- logs: contains logged model training output\n",
    "- model: trained model artifacts\n",
    "- output: contains predictions. Also contains output from hyper-parameter tuning, if run. "
   ]
  },
  {
   "cell_type": "code",
   "execution_count": null,
   "id": "c80d74c8",
   "metadata": {},
   "outputs": [],
   "source": [
    "%%bash\n",
    "ls ml_vol"
   ]
  },
  {
   "cell_type": "markdown",
   "id": "3c191dca",
   "metadata": {},
   "source": [
    "# Stop Container and Remove Image"
   ]
  },
  {
   "cell_type": "code",
   "execution_count": null,
   "id": "de07aae4",
   "metadata": {},
   "outputs": [],
   "source": [
    "%%bash\n",
    "docker stop mfc"
   ]
  },
  {
   "cell_type": "code",
   "execution_count": null,
   "id": "1b839fdf",
   "metadata": {},
   "outputs": [],
   "source": [
    "%%bash\n",
    "docker rmi abudesai/rec_base_mf_res:1"
   ]
  }
 ],
 "metadata": {
  "kernelspec": {
   "display_name": "Python 3 (ipykernel)",
   "language": "python",
   "name": "python3"
  },
  "language_info": {
   "codemirror_mode": {
    "name": "ipython",
    "version": 3
   },
   "file_extension": ".py",
   "mimetype": "text/x-python",
   "name": "python",
   "nbconvert_exporter": "python",
   "pygments_lexer": "ipython3",
   "version": "3.9.7"
  }
 },
 "nbformat": 4,
 "nbformat_minor": 5
}
